{
 "cells": [
  {
   "cell_type": "code",
   "execution_count": 1,
   "metadata": {},
   "outputs": [],
   "source": [
    "import sys, os, importlib.util\n",
    "import numpy as np\n",
    "import matplotlib.pyplot as plt\n",
    "import matplotlib.ticker as ticker\n",
    "import pandas as pd\n",
    "\n",
    "from scipy.constants import lambda2nu, nu2lambda, c\n",
    "from scipy.interpolate import interp1d\n",
    "from mpl_toolkits.axes_grid1.inset_locator import zoomed_inset_axes, mark_inset"
   ]
  },
  {
   "cell_type": "code",
   "execution_count": 2,
   "metadata": {},
   "outputs": [],
   "source": [
    "from IPython.core.display import HTML\n",
    "from IPython.core.pylabtools import figsize\n",
    "from IPython.display import display, Math"
   ]
  },
  {
   "cell_type": "code",
   "execution_count": 3,
   "metadata": {},
   "outputs": [],
   "source": [
    "lumapiFile = \"C:\\\\Program Files\\\\Lumerical\\\\v221\\\\api\\\\python\\\\lumapi.py\"\n",
    "spec = importlib.util.spec_from_file_location(\"lumapi\", lumapiFile)\n",
    "lumapi = importlib.util.module_from_spec(spec)\n",
    "spec.loader.exec_module(lumapi)\n",
    "\n",
    "modeApi = lumapi.MODE(hide = False)"
   ]
  },
  {
   "cell_type": "code",
   "execution_count": 4,
   "metadata": {},
   "outputs": [],
   "source": [
    "um = 1e-6\n",
    "nm = 1e-9\n",
    "valor_lambda = 1550*nm"
   ]
  },
  {
   "cell_type": "code",
   "execution_count": 5,
   "metadata": {},
   "outputs": [
    {
     "name": "stdout",
     "output_type": "stream",
     "text": [
      "ΔL = 552.82μm\n",
      "Comprimento maior = 572.82μm\n",
      "Comprimento menor = 20.00μm\n",
      "ΔL = 55.28μm\n",
      "Comprimento maior = 75.28μm\n",
      "Comprimento menor = 20.00μm\n",
      "ΔL = 27.64μm\n",
      "Comprimento maior = 47.64μm\n",
      "Comprimento menor = 20.00μm\n"
     ]
    }
   ],
   "source": [
    "ng = 4.3458796\n",
    "FSR = [1*nm, 10*nm, 20*nm]\n",
    "\n",
    "L1 = np.zeros(len(FSR))\n",
    "L2 = np.zeros(len(FSR))\n",
    "\n",
    "for i in range (len(FSR)):\n",
    "    d_L = valor_lambda**2/(ng*FSR[i])\n",
    "    L1[i] = 20*um\n",
    "    L2[i] = L1[i] + d_L\n",
    "\n",
    "    print(f'\\u0394L = {d_L/um:.2f}\\u03BCm\\nComprimento maior = {L2[i]/um:.2f}\\u03BCm\\nComprimento menor = {L1[i]/um:.2f}\\u03BCm')"
   ]
  },
  {
   "cell_type": "code",
   "execution_count": 6,
   "metadata": {},
   "outputs": [],
   "source": [
    "sub_material = 'SiO2 (Glass) - Palik'\n",
    "\n",
    "x_span_waveguide = np.min(L1)\n",
    "y_span_waveguide = 0.450*um\n",
    "z_span_waveguide = 0.22*um\n",
    "x_waveguide = 0.0*um\n",
    "y_waveguide = 0.0*um\n",
    "z_waveguide = 0.0*um\n",
    "waveguide_material = 'Si (Silicon) - Palik'"
   ]
  },
  {
   "cell_type": "code",
   "execution_count": 7,
   "metadata": {},
   "outputs": [],
   "source": [
    "modeApi.switchtolayout()\n",
    "\n",
    "modeApi.select('GDS_LAYER_35:4')\n",
    "modeApi.delete()\n",
    "\n",
    "modeApi.addstructuregroup()\n",
    "dev_layer = 'GDS_LAYER_35:4'\n",
    "modeApi.set('name', dev_layer)\n",
    "modeApi.set('x', x_waveguide)\n",
    "modeApi.set('y', y_waveguide)"
   ]
  },
  {
   "cell_type": "code",
   "execution_count": 8,
   "metadata": {},
   "outputs": [],
   "source": [
    "modeApi.switchtolayout()\n",
    "\n",
    "modeApi.select(f'{dev_layer}::waveguide')\n",
    "modeApi.delete()\n",
    "\n",
    "modeApi.addrect()\n",
    "modeApi.addtogroup(dev_layer)\n",
    "modeApi.set('name', 'waveguide')\n",
    "modeApi.set('material', waveguide_material)\n",
    "modeApi.set('y', -y_waveguide)\n",
    "modeApi.set('x', x_waveguide)\n",
    "modeApi.set('z', z_waveguide)\n",
    "modeApi.set('y span', y_span_waveguide)\n",
    "modeApi.set('z span', z_span_waveguide)"
   ]
  },
  {
   "cell_type": "code",
   "execution_count": 9,
   "metadata": {},
   "outputs": [],
   "source": [
    "x_fde = 0.0*um\n",
    "y_fde = 0.0*um\n",
    "z_fde = 0.0*um\n",
    "x_span_fde = 0*um\n",
    "y_span_fde = 2.5*um\n",
    "z_span_fde = 1*um\n",
    "\n",
    "mesh_cells = 100\n",
    "mesh_multiplier = 5\n",
    "\n",
    "wavelength = 1550*nm\n",
    "start_wavelength = 1500*nm\n",
    "stop_wavelength = 1600*nm\n",
    "\n",
    "modes = 4\n",
    "\n",
    "number_points = 100\n",
    "\n",
    "name = 'Mode_waveguide'"
   ]
  },
  {
   "cell_type": "code",
   "execution_count": 10,
   "metadata": {},
   "outputs": [],
   "source": [
    "modeApi.switchtolayout()\n",
    "\n",
    "modeApi.select('FDE')\n",
    "modeApi.delete()\n",
    "\n",
    "modeApi.addfde()\n",
    "modeApi.set('solver type', '2D X normal')\n",
    "modeApi.set('background material', sub_material)\n",
    "\n",
    "modeApi.set('x', x_fde)\n",
    "modeApi.set('y', y_fde)\n",
    "modeApi.set('z', z_fde)\n",
    "modeApi.set('z span', z_span_fde)\n",
    "modeApi.set('y span', y_span_fde)\n",
    "\n",
    "modeApi.set('define z mesh by', 'number of mesh cells')\n",
    "modeApi.set('mesh cells z', mesh_cells)\n",
    "modeApi.set('define y mesh by', 'number of mesh cells')\n",
    "modeApi.set('mesh cells y', mesh_cells)\n",
    "\n",
    "modeApi.set('wavelength', wavelength)\n",
    "\n",
    "modeApi.set('number of trial modes', modes)\n",
    "\n",
    "modeApi.set('fit materials with multi-coefficient model', True)\n",
    "modeApi.set('wavelength start', start_wavelength)\n",
    "modeApi.set('wavelength stop', stop_wavelength)\n",
    "\n",
    "modeApi.set('z min bc', 'Metal')\n",
    "modeApi.set('z max bc', 'Metal')\n",
    "modeApi.set('y min bc', 'Metal')\n",
    "modeApi.set('y max bc', 'Metal')"
   ]
  },
  {
   "cell_type": "code",
   "execution_count": 11,
   "metadata": {},
   "outputs": [],
   "source": [
    "modeApi.switchtolayout()\n",
    "\n",
    "modeApi.select('mesh')\n",
    "modeApi.delete()\n",
    "\n",
    "modeApi.addmesh()\n",
    "modeApi.set('name','mesh_box')\n",
    "modeApi.set('based on a structure', True)\n",
    "modeApi.set('structure', 'waveguide')\n",
    "\n",
    "modeApi.set('set mesh multiplier', True)\n",
    "modeApi.set(\"x mesh multiplier\", mesh_multiplier)\n",
    "modeApi.set(\"y mesh multiplier\", mesh_multiplier)\n",
    "modeApi.set(\"z mesh multiplier\", mesh_multiplier)"
   ]
  },
  {
   "cell_type": "code",
   "execution_count": 12,
   "metadata": {},
   "outputs": [
    {
     "data": {
      "text/plain": [
       "4.0"
      ]
     },
     "execution_count": 12,
     "metadata": {},
     "output_type": "execute_result"
    }
   ],
   "source": [
    "modeApi.save(name)\n",
    "\n",
    "modeApi.findmodes()"
   ]
  },
  {
   "cell_type": "code",
   "execution_count": 13,
   "metadata": {},
   "outputs": [],
   "source": [
    "modeApi.selectmode(1)\n",
    "\n",
    "modeApi.setanalysis('track selected mode', 1)\n",
    "modeApi.setanalysis('stop wavelength', stop_wavelength)\n",
    "modeApi.setanalysis('number of test modes', modes)\n",
    "modeApi.setanalysis('number of points', number_points)\n",
    "modeApi.setanalysis(\"detailed dispersion calculation\",1)\n",
    "modeApi.setanalysis(\"store mode profiles while tracking\",1)\n"
   ]
  },
  {
   "cell_type": "code",
   "execution_count": 14,
   "metadata": {},
   "outputs": [],
   "source": [
    "\n",
    "modeApi.frequencysweep()"
   ]
  }
 ],
 "metadata": {
  "kernelspec": {
   "display_name": "Python 3",
   "language": "python",
   "name": "python3"
  },
  "language_info": {
   "codemirror_mode": {
    "name": "ipython",
    "version": 3
   },
   "file_extension": ".py",
   "mimetype": "text/x-python",
   "name": "python",
   "nbconvert_exporter": "python",
   "pygments_lexer": "ipython3",
   "version": "3.11.9"
  }
 },
 "nbformat": 4,
 "nbformat_minor": 2
}
